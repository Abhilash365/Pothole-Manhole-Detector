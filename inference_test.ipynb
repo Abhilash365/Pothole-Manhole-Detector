{
 "cells": [
  {
   "cell_type": "code",
   "execution_count": 1,
   "id": "67f3379b",
   "metadata": {},
   "outputs": [],
   "source": [
    "import os"
   ]
  },
  {
   "cell_type": "code",
   "execution_count": 2,
   "id": "171b278c",
   "metadata": {},
   "outputs": [
    {
     "data": {
      "text/plain": [
       "'d:\\\\ml_projects\\\\pothole\\\\pothole_extract'"
      ]
     },
     "execution_count": 2,
     "metadata": {},
     "output_type": "execute_result"
    }
   ],
   "source": [
    "os.getcwd()"
   ]
  },
  {
   "cell_type": "code",
   "execution_count": 3,
   "id": "c5c09635",
   "metadata": {},
   "outputs": [],
   "source": [
    "os.chdir('d:\\\\ml_projects\\\\pothole')"
   ]
  },
  {
   "cell_type": "markdown",
   "id": "66b4600f",
   "metadata": {},
   "source": [
    "Pothole_Only_Inference"
   ]
  },
  {
   "cell_type": "code",
   "execution_count": 7,
   "id": "542ff850",
   "metadata": {},
   "outputs": [
    {
     "name": "stdout",
     "output_type": "stream",
     "text": [
      "Loaded image has shape: (1, 299, 299, 3)\n"
     ]
    }
   ],
   "source": [
    "import tensorflow as tf\n",
    "import numpy as np\n",
    "import os\n",
    "from tensorflow.keras.models import load_model\n",
    "\n",
    "# Load the saved model\n",
    "model_filename = \"InceptionV3_pothole_E10_LR-5.keras\"\n",
    "model = load_model(model_filename)\n",
    "\n",
    "# Define the image shape the model expects\n",
    "IMG_SHAPE = 299\n",
    "\n",
    "# Function to load and preprocess a single image\n",
    "def load_single_image(image_path, img_shape):\n",
    "    # Load the image\n",
    "    img = tf.io.read_file(image_path)\n",
    "    img = tf.image.decode_jpeg(img, channels=3)\n",
    "    \n",
    "    # Resize the image to the required shape\n",
    "    img = tf.image.resize(img, (img_shape, img_shape))\n",
    "    \n",
    "    # Normalize the pixel values\n",
    "    img = img / 255.0\n",
    "    \n",
    "    # Add a batch dimension to the image\n",
    "    # The model expects a batch of images, even if it's just one\n",
    "    img = np.expand_dims(img, axis=0)\n",
    "    return img\n",
    "\n",
    "# Specify the path to your test image\n",
    "# Replace this with a path to one of your test images\n",
    "test_image_path = r\"D:\\ml_projects\\pothole\\pothole_extract\\manhole\\open24.jpg\"\n",
    "\n",
    "# Preprocess the image\n",
    "input_image = load_single_image(test_image_path, IMG_SHAPE)\n",
    "\n",
    "print(f\"Loaded image has shape: {input_image.shape}\")"
   ]
  },
  {
   "cell_type": "code",
   "execution_count": 8,
   "id": "32355d6d",
   "metadata": {},
   "outputs": [
    {
     "name": "stdout",
     "output_type": "stream",
     "text": [
      "\u001b[1m1/1\u001b[0m \u001b[32m━━━━━━━━━━━━━━━━━━━━\u001b[0m\u001b[37m\u001b[0m \u001b[1m2s\u001b[0m 2s/step\n",
      "Prediction scores: [[0.2436204  0.75637954]]\n"
     ]
    }
   ],
   "source": [
    "# Make a prediction on the single image\n",
    "predictions = model.predict(input_image)\n",
    "\n",
    "print(f\"Prediction scores: {predictions}\")"
   ]
  },
  {
   "cell_type": "code",
   "execution_count": 10,
   "id": "c5ae2672",
   "metadata": {},
   "outputs": [
    {
     "name": "stdout",
     "output_type": "stream",
     "text": [
      "The model predicts the image contains a: Normal\n",
      "Confidence: 75.64%\n"
     ]
    }
   ],
   "source": [
    "# Get the class with the highest probability\n",
    "predicted_class_index = np.argmax(predictions, axis=1)[0]\n",
    "\n",
    "# Define your class labels\n",
    "class_labels = [\"Pothole\", \"Normal\"]\n",
    "\n",
    "# Get the predicted label and confidence\n",
    "predicted_label = class_labels[predicted_class_index]\n",
    "confidence = predictions[0][predicted_class_index] * 100\n",
    "\n",
    "print(f\"The model predicts the image contains a: {predicted_label}\")\n",
    "print(f\"Confidence: {confidence:.2f}%\")"
   ]
  },
  {
   "cell_type": "markdown",
   "id": "5f3f2a72",
   "metadata": {},
   "source": [
    "### Pothole + Manhole Inference"
   ]
  },
  {
   "cell_type": "markdown",
   "id": "93f25ef6",
   "metadata": {},
   "source": [
    "Load the Model and Preprocess the Test Image"
   ]
  },
  {
   "cell_type": "code",
   "execution_count": 1,
   "id": "06fd2c09",
   "metadata": {},
   "outputs": [
    {
     "name": "stdout",
     "output_type": "stream",
     "text": [
      "Loaded image has shape: (1, 299, 299, 3)\n"
     ]
    }
   ],
   "source": [
    "import tensorflow as tf\n",
    "import numpy as np\n",
    "import os\n",
    "from tensorflow.keras.models import load_model\n",
    "\n",
    "# Load the saved 3-class model\n",
    "model_filename = \"InceptionV3_3_class_pothole_manhole_E10_LR-5.keras\"\n",
    "try:\n",
    "    model = load_model(model_filename)\n",
    "except Exception as e:\n",
    "    print(f\"Error loading model: {e}\")\n",
    "    exit()\n",
    "\n",
    "# Define the image shape the model expects\n",
    "IMG_SHAPE = 299\n",
    "# Function to load and preprocess a single image\n",
    "def load_single_image(image_path, img_shape):\n",
    "    try:\n",
    "        img_raw = tf.io.read_file(image_path)\n",
    "        img = tf.image.decode_jpeg(img_raw, channels=3)\n",
    "        img = tf.image.resize(img, (img_shape, img_shape))\n",
    "        img = img / 255.0\n",
    "        img = np.expand_dims(img, axis=0)\n",
    "        return img\n",
    "    except Exception as e:\n",
    "        print(f\"Error processing image: {e}\")\n",
    "        return None\n",
    "\n",
    "# Specify the path to your test image\n",
    "# Use a raw string for the path to avoid syntax errors\n",
    "test_image_path = r\"D:\\ml_projects\\pothole\\pothole_extract\\manhole\\m-close45.jpg\"\n",
    "\n",
    "# Preprocess the image\n",
    "input_image = load_single_image(test_image_path, IMG_SHAPE)\n",
    "\n",
    "if input_image is not None:\n",
    "    print(f\"Loaded image has shape: {input_image.shape}\")\n"
   ]
  },
  {
   "cell_type": "code",
   "execution_count": 2,
   "id": "75b9361d",
   "metadata": {},
   "outputs": [
    {
     "name": "stdout",
     "output_type": "stream",
     "text": [
      "\u001b[1m1/1\u001b[0m \u001b[32m━━━━━━━━━━━━━━━━━━━━\u001b[0m\u001b[37m\u001b[0m \u001b[1m2s\u001b[0m 2s/step\n",
      "Prediction scores: [[0.05787544 0.9402355  0.00188906]]\n"
     ]
    }
   ],
   "source": [
    "if input_image is not None:\n",
    "    predictions = model.predict(input_image)\n",
    "    print(f\"Prediction scores: {predictions}\")"
   ]
  },
  {
   "cell_type": "code",
   "execution_count": 3,
   "id": "25b8c5d4",
   "metadata": {},
   "outputs": [
    {
     "name": "stdout",
     "output_type": "stream",
     "text": [
      "\n",
      "Prediction for 'm-close45.jpg':\n",
      "The model predicts the image contains a: Manhole\n",
      "Confidence: 94.02%\n",
      "\n",
      "Confidence for all classes:\n",
      " - Pothole: 5.79%\n",
      " - Manhole: 94.02%\n",
      " - Normal: 0.19%\n"
     ]
    }
   ],
   "source": [
    "if input_image is not None:\n",
    "    # Get the class with the highest probability\n",
    "    predicted_class_index = np.argmax(predictions, axis=1)[0]\n",
    "\n",
    "    # Define your new three-class labels\n",
    "    class_labels = [\"Pothole\", \"Manhole\", \"Normal\"]\n",
    "\n",
    "    # Get the predicted label and confidence\n",
    "    predicted_label = class_labels[predicted_class_index]\n",
    "    confidence = predictions[0][predicted_class_index] * 100\n",
    "\n",
    "    print(f\"\\nPrediction for '{os.path.basename(test_image_path)}':\")\n",
    "    print(f\"The model predicts the image contains a: {predicted_label}\")\n",
    "    print(f\"Confidence: {confidence:.2f}%\")\n",
    "    \n",
    "    # Add confidence for remaining classes\n",
    "    print(\"\\nConfidence for all classes:\")\n",
    "    for i, label in enumerate(class_labels):\n",
    "        print(f\" - {label}: {predictions[0][i] * 100:.2f}%\")"
   ]
  }
 ],
 "metadata": {
  "kernelspec": {
   "display_name": "myenv",
   "language": "python",
   "name": "python3"
  },
  "language_info": {
   "codemirror_mode": {
    "name": "ipython",
    "version": 3
   },
   "file_extension": ".py",
   "mimetype": "text/x-python",
   "name": "python",
   "nbconvert_exporter": "python",
   "pygments_lexer": "ipython3",
   "version": "3.10.18"
  }
 },
 "nbformat": 4,
 "nbformat_minor": 5
}
